{
 "cells": [
  {
   "cell_type": "markdown",
   "id": "c83564e6-204b-4816-a612-8ce8d293ce3d",
   "metadata": {},
   "source": [
    "# How gradient descent works"
   ]
  },
  {
   "cell_type": "code",
   "execution_count": null,
   "id": "d68c7b02-3e29-4179-8b68-22e03518eac2",
   "metadata": {},
   "outputs": [],
   "source": [
    "from ipywidgets import interact\n",
    "from fastai.basics import *"
   ]
  },
  {
   "cell_type": "code",
   "execution_count": null,
   "id": "479fac6e-831a-4d79-b715-508da54b995f",
   "metadata": {},
   "outputs": [],
   "source": [
    "# Figure parameters\n",
    "plt.rc('figure', dpi=60)\n",
    "\n",
    "def plot_function(f, title=None, min=-2.1, max=2.1, color='r', ylim=None):\n",
    "    x = torch.linspace(min,max, 100)[:,None]\n",
    "    if ylim: plt.ylim(ylim)\n",
    "    plt.plot(x, f(x), color)\n",
    "    if title is not None: plt.title(title)"
   ]
  },
  {
   "cell_type": "markdown",
   "id": "2e93b230-f7cd-426f-b99e-88ea93bc49bc",
   "metadata": {},
   "source": [
    "## Quadratic function example"
   ]
  },
  {
   "cell_type": "markdown",
   "id": "3f15f09d-87ea-45ce-a024-74913f6f560a",
   "metadata": {},
   "source": [
    "### Function definition"
   ]
  },
  {
   "cell_type": "code",
   "execution_count": null,
   "id": "4fc41307-151d-47ff-ab4e-1116c254ac78",
   "metadata": {},
   "outputs": [],
   "source": [
    "def f(x): return 3*x**2 + 2*x + 1\n",
    "\n",
    "plot_function(f, \"$3x^2 + 2x + 1$\")"
   ]
  },
  {
   "cell_type": "code",
   "execution_count": null,
   "id": "b5a0407f-e55e-461c-b194-df32d5920d39",
   "metadata": {},
   "outputs": [],
   "source": [
    "def quad(a, b, c, x): return a*x**2 + b*x + c\n",
    "def mk_quad(a,b,c): return partial(quad, a,b,c)\n"
   ]
  },
  {
   "cell_type": "code",
   "execution_count": null,
   "id": "d89e12ba-597c-4e15-88f5-3d9adc9b8d20",
   "metadata": {},
   "outputs": [],
   "source": [
    "plot_function(mk_quad(3,2,1))"
   ]
  },
  {
   "cell_type": "code",
   "execution_count": null,
   "id": "04aed9a2-c819-4f9d-a09a-124108f8006b",
   "metadata": {},
   "outputs": [],
   "source": [
    "def noise(x, scale): return torch.from_numpy(\n",
    "    np.random.normal(scale=scale, size=list(x.shape))\n",
    ")\n",
    "def add_noise(x, mult, add): return x * (1+noise(x,mult)) + noise(x,add)"
   ]
  },
  {
   "cell_type": "code",
   "execution_count": null,
   "id": "c687b75e-7e8d-4aed-80dd-31796b9d2677",
   "metadata": {},
   "outputs": [],
   "source": [
    "np.random.seed(42)\n",
    "\n",
    "x = torch.linspace(-2, 2, steps=20)[:,None]\n",
    "y = add_noise(f(x), 0.15, 1.5)"
   ]
  },
  {
   "cell_type": "code",
   "execution_count": null,
   "id": "f66fea6f-9813-47ab-8a6a-5f5166ea8b05",
   "metadata": {},
   "outputs": [],
   "source": [
    "plt.scatter(x, y);"
   ]
  },
  {
   "cell_type": "code",
   "execution_count": null,
   "id": "47449729-c248-4d54-8a6e-374db8ee007b",
   "metadata": {},
   "outputs": [],
   "source": [
    "# rq : le interact ne marche pas sur onyxia\n",
    "@interact(a=1.1, b=1.1, c=1.1) \n",
    "def plot_quad(a, b, c):\n",
    "    plt.scatter(x,y)\n",
    "    plot_function(mk_quad(a,b,c), ylim=(-3,13)) "
   ]
  },
  {
   "cell_type": "markdown",
   "id": "c3642371-adf5-46b7-916f-0cad334624af",
   "metadata": {},
   "source": [
    "### Definition de la perte"
   ]
  },
  {
   "cell_type": "code",
   "execution_count": null,
   "id": "57fdd32d-1665-4974-9b77-463b5e604201",
   "metadata": {},
   "outputs": [],
   "source": [
    "def mae(preds, acts): return (torch.abs(preds-acts)).mean()"
   ]
  },
  {
   "cell_type": "code",
   "execution_count": null,
   "id": "9c1c3c95-2e65-4f60-92a3-32e7b2dceb09",
   "metadata": {},
   "outputs": [],
   "source": [
    "float(mae(y, f(x)))"
   ]
  },
  {
   "cell_type": "code",
   "execution_count": null,
   "id": "9e5a8cc7-9045-492b-9b06-85d2ee0d1fe9",
   "metadata": {},
   "outputs": [],
   "source": [
    "@interact(a=1.1, b=1.1, c=1.1)\n",
    "def plot_quad(a, b, c):\n",
    "    f = mk_quad(a,b,c)\n",
    "    plt.scatter(x,y)\n",
    "    loss = mae(f(x), y)\n",
    "    plot_function(f, ylim=(-3,12), title=f\"MAE: {loss:.2f}\")"
   ]
  },
  {
   "cell_type": "markdown",
   "id": "3c906573-7f26-484d-9c3e-b4a2883ad5a1",
   "metadata": {},
   "source": [
    "### Automatic gradient descent"
   ]
  },
  {
   "cell_type": "code",
   "execution_count": null,
   "id": "6ccc86c5-d238-4a5c-939c-7171787c0d3a",
   "metadata": {},
   "outputs": [],
   "source": [
    "def quad_mae(params):\n",
    "    f = mk_quad(*params)\n",
    "    return mae(f(x), y)"
   ]
  },
  {
   "cell_type": "code",
   "execution_count": null,
   "id": "262befc8-d219-4672-8634-ebe0b116d792",
   "metadata": {},
   "outputs": [],
   "source": [
    "quad_mae((1.1, 1.1, 1.1))"
   ]
  },
  {
   "cell_type": "code",
   "execution_count": null,
   "id": "06f415b2-556b-4ba6-bf55-d7fdb29b5f72",
   "metadata": {},
   "outputs": [],
   "source": [
    "param = torch.tensor((1.1, 1.1, 1.1), requires_grad = True)\n",
    "print(f'param : {param}')\n",
    "print(f'param gradient : {param.grad}')"
   ]
  },
  {
   "cell_type": "code",
   "execution_count": null,
   "id": "9be34b61-13c7-4ac1-bd8a-bd6899aa6a40",
   "metadata": {},
   "outputs": [],
   "source": [
    "loss = quad_mae(param)\n",
    "print(f'loss : {loss:.3}')\n",
    "print(f'param : {param}')\n",
    "print(f'param gradient : {param.grad}')"
   ]
  },
  {
   "cell_type": "code",
   "execution_count": null,
   "id": "66cf26ee-8675-4fa1-8955-7af6e5eb43b4",
   "metadata": {},
   "outputs": [],
   "source": [
    "loss.backward()\n",
    "print(f'loss : {loss: .3}')\n",
    "print(f'param : {param}')\n",
    "print(f'param gradient : {param.grad}')"
   ]
  },
  {
   "cell_type": "code",
   "execution_count": null,
   "id": "085988e1-f762-440b-900d-aaa221a16bc5",
   "metadata": {},
   "outputs": [],
   "source": [
    "with torch.no_grad():\n",
    "    param -= param.grad*0.01\n",
    "    loss = quad_mae(param)\n",
    "    \n",
    "print(f'loss={loss:.2f}')\n",
    "print(f'param : {param}')\n",
    "print(f'param gradient : {param.grad}')"
   ]
  },
  {
   "cell_type": "code",
   "execution_count": null,
   "id": "3882a0c7-9030-4d13-b7c6-c07a68dda607",
   "metadata": {},
   "outputs": [],
   "source": [
    "for i in range(13) : \n",
    "    loss = quad_mae(param)\n",
    "    loss.backward()\n",
    "    print(f'step {i}, loss={loss:.2f}')\n",
    "    with torch.no_grad() : param -= param.grad*0.01"
   ]
  },
  {
   "cell_type": "code",
   "execution_count": null,
   "id": "7a399792-58c6-4531-8a9c-81c6bb1ba66b",
   "metadata": {},
   "outputs": [],
   "source": [
    "param = param.detach().numpy()\n",
    "print(f'param : {param}')\n",
    "\n",
    "f = mk_quad(*param)\n",
    "plt.scatter(x,y)\n",
    "loss = mae(f(x), y)\n",
    "plot_function(f, ylim=(-3,12), title=f\"MAE: {loss:.2f}\")"
   ]
  },
  {
   "cell_type": "markdown",
   "id": "f5a4c7ba-9d79-4011-bd7d-eb56fe07e95a",
   "metadata": {},
   "source": [
    "## Neural Net function"
   ]
  },
  {
   "cell_type": "code",
   "execution_count": null,
   "id": "752c5cfb-b288-402d-a0e1-8977e4c65b5d",
   "metadata": {},
   "outputs": [],
   "source": [
    "def rectified_linear(m,b,x):\n",
    "    y = m*x+b\n",
    "    return torch.clip(y, 0.)\n",
    "\n",
    "plot_function(partial(rectified_linear, 1, 1))"
   ]
  },
  {
   "cell_type": "code",
   "execution_count": null,
   "id": "faeeece3-61f1-4fd3-ada4-2358ccdc1719",
   "metadata": {},
   "outputs": [],
   "source": [
    "def double_relu(m1,b1,m2,b2,x):\n",
    "    return rectified_linear(m1,b1,x) + rectified_linear(m2,b2,x)\n",
    "\n",
    "def mk_double_relu(m1,b1,m2,b2) : \n",
    "    return partial(double_relu, m1,b1,m2,b2)\n",
    "\n",
    "plot_function(partial(double_relu, -1, 0, 1, 2))"
   ]
  },
  {
   "cell_type": "code",
   "execution_count": null,
   "id": "7a800c48-6645-48e2-8ec2-520e80df7c47",
   "metadata": {},
   "outputs": [],
   "source": [
    "def rn_mae(params):\n",
    "    f = mk_double_relu(*params)\n",
    "    return mae(f(x), y)"
   ]
  },
  {
   "cell_type": "code",
   "execution_count": null,
   "id": "5ebfc979-06db-4b26-b39b-2e328a0876cf",
   "metadata": {},
   "outputs": [],
   "source": [
    "rn_params = torch.tensor((-1.0, 0.0, 1.0, 2.0), requires_grad = True)"
   ]
  },
  {
   "cell_type": "code",
   "execution_count": null,
   "id": "4f62be8f-d277-48b2-81e1-43155767fe04",
   "metadata": {},
   "outputs": [],
   "source": [
    "for i in range(50) : \n",
    "    loss = rn_mae(rn_params)\n",
    "    loss.backward()\n",
    "    if i%5 == 0 : print(f'step {i}, loss={loss:.2f}')\n",
    "    with torch.no_grad() : rn_params -= rn_params.grad*0.01"
   ]
  },
  {
   "cell_type": "code",
   "execution_count": null,
   "id": "a3e4e3ab-f1f3-4d4e-ab35-b9fb1671076b",
   "metadata": {},
   "outputs": [],
   "source": [
    "params = rn_params.detach().numpy()\n",
    "print(f'param : {params}')\n",
    "\n",
    "f = mk_double_relu(*params)\n",
    "plt.scatter(x,y)\n",
    "loss = mae(f(x), y)\n",
    "plot_function(f, ylim=(-3,12), title=f\"MAE: {loss:.2f}\")"
   ]
  }
 ],
 "metadata": {
  "kernelspec": {
   "display_name": "Python 3 (ipykernel)",
   "language": "python",
   "name": "python3"
  },
  "language_info": {
   "codemirror_mode": {
    "name": "ipython",
    "version": 3
   },
   "file_extension": ".py",
   "mimetype": "text/x-python",
   "name": "python",
   "nbconvert_exporter": "python",
   "pygments_lexer": "ipython3",
   "version": "3.12.7"
  }
 },
 "nbformat": 4,
 "nbformat_minor": 5
}
