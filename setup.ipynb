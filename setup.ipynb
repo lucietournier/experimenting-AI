{
 "cells": [
  {
   "cell_type": "code",
   "execution_count": null,
   "id": "fd86cb60-ad10-4053-b81c-e518134e829c",
   "metadata": {},
   "outputs": [],
   "source": [
    "# First classifier\n",
    "!pip install duckduckgo_search\n",
    "!pip install -Uqq fastai\n",
    "\n",
    "# Application\n",
    "!pip install --upgrade gradio\n",
    "!pip install nbdev\n",
    "!pip install ipywidgets\n",
    "\n",
    "# To upload kaggle datasets\n",
    "!pip install kaggle\n",
    "\n",
    "# NLP\n",
    "!pip install -q datasets\n",
    "!pip install transformers\n",
    "!pip install 'accelerate>=0.26.0"
   ]
  },
  {
   "cell_type": "code",
   "execution_count": null,
   "id": "b2b3d1f4",
   "metadata": {},
   "outputs": [],
   "source": [
    "# Setting up Kaggle API key\n",
    "import json \n",
    "\n",
    "a = !echo $USERNAME\n",
    "b = !echo $KEY\n",
    "\n",
    "kaggle_token = {\n",
    "    \"username\": a[0],\n",
    "    \"key\": b[0]\n",
    "}\n",
    "\n",
    "with open('kaggle.json', 'w') as file:\n",
    "    json.dump(kaggle_token, file)\n",
    "\n",
    "!mv kaggle.json ~/.config/kaggle\n",
    "!chmod 600 /home/onyxia/.config/kaggle/kaggle.json"
   ]
  }
 ],
 "metadata": {
  "kernelspec": {
   "display_name": "base",
   "language": "python",
   "name": "python3"
  },
  "language_info": {
   "codemirror_mode": {
    "name": "ipython",
    "version": 3
   },
   "file_extension": ".py",
   "mimetype": "text/x-python",
   "name": "python",
   "nbconvert_exporter": "python",
   "pygments_lexer": "ipython3",
   "version": "3.12.9"
  }
 },
 "nbformat": 4,
 "nbformat_minor": 5
}
