{
 "cells": [
  {
   "cell_type": "code",
   "execution_count": null,
   "id": "fd86cb60-ad10-4053-b81c-e518134e829c",
   "metadata": {},
   "outputs": [],
   "source": [
    "# First classifier\n",
    "!pip install duckduckgo_search\n",
    "!pip install -Uqq fastai\n",
    "\n",
    "# Application\n",
    "!pip install --upgrade gradio\n",
    "!pip install nbdev\n",
    "!pip install ipywidgets\n",
    "\n",
    "# To upload kaggle datasets\n",
    "!pip install kaggle\n",
    "\n",
    "# NLP\n",
    "!pip install -q datasets\n",
    "!pip install transformers\n",
    "!pip install 'accelerate>=0.26.0"
   ]
  }
 ],
 "metadata": {
  "kernelspec": {
   "display_name": "Python 3 (ipykernel)",
   "language": "python",
   "name": "python3"
  },
  "language_info": {
   "codemirror_mode": {
    "name": "ipython",
    "version": 3
   },
   "file_extension": ".py",
   "mimetype": "text/x-python",
   "name": "python",
   "nbconvert_exporter": "python",
   "pygments_lexer": "ipython3",
   "version": "3.12.7"
  }
 },
 "nbformat": 4,
 "nbformat_minor": 5
}
