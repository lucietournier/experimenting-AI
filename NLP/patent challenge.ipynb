{
 "cells": [
  {
   "cell_type": "markdown",
   "id": "3d3460ea-d4ee-498b-a20f-75e08f39a543",
   "metadata": {},
   "source": [
    "# Patent Kaggle challenge"
   ]
  },
  {
   "cell_type": "markdown",
   "id": "070de716-458a-4f49-94d0-8ca516920361",
   "metadata": {},
   "source": [
    "notebook from fastai course lesson 4"
   ]
  },
  {
   "cell_type": "code",
   "execution_count": 3,
   "id": "557ec44e-a70d-42a6-81bf-f76cf4242442",
   "metadata": {},
   "outputs": [],
   "source": [
    "# importing kaggle dataset\n",
    "\n",
    "!kaggle competitions download -c us-patent-phrase-to-phrase-matching\n",
    "!unzip us-patent-phrase-to-phrase-matching.zip -d us-patent-phrase-to-phrase-matching\n",
    "!rm us-patent-phrase-to-phrase-matching.zip"
   ]
  },
  {
   "cell_type": "code",
   "execution_count": null,
   "id": "bfa1d2d5-1188-40a8-8867-9cdb5f3e45d7",
   "metadata": {},
   "outputs": [],
   "source": []
  }
 ],
 "metadata": {
  "kernelspec": {
   "display_name": "Python 3 (ipykernel)",
   "language": "python",
   "name": "python3"
  },
  "language_info": {
   "codemirror_mode": {
    "name": "ipython",
    "version": 3
   },
   "file_extension": ".py",
   "mimetype": "text/x-python",
   "name": "python",
   "nbconvert_exporter": "python",
   "pygments_lexer": "ipython3",
   "version": "3.12.7"
  }
 },
 "nbformat": 4,
 "nbformat_minor": 5
}
