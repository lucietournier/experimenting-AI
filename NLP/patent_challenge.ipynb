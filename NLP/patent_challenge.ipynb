{
 "cells": [
  {
   "cell_type": "markdown",
   "id": "3d3460ea-d4ee-498b-a20f-75e08f39a543",
   "metadata": {},
   "source": [
    "# Patent Kaggle challenge"
   ]
  },
  {
   "cell_type": "markdown",
   "id": "070de716-458a-4f49-94d0-8ca516920361",
   "metadata": {},
   "source": [
    "notebook from fastai course lesson 4\n",
    "\n",
    "## Importing kaggle dataset"
   ]
  },
  {
   "cell_type": "code",
   "execution_count": null,
   "id": "557ec44e-a70d-42a6-81bf-f76cf4242442",
   "metadata": {},
   "outputs": [],
   "source": [
    "!kaggle competitions download -c us-patent-phrase-to-phrase-matching \n",
    "!unzip us-patent-phrase-to-phrase-matching.zip -d us-patent-phrase-to-phrase-matching\n",
    "!rm us-patent-phrase-to-phrase-matching.zip"
   ]
  },
  {
   "cell_type": "code",
   "execution_count": null,
   "id": "bfa1d2d5-1188-40a8-8867-9cdb5f3e45d7",
   "metadata": {},
   "outputs": [],
   "source": [
    "from pathlib import Path\n",
    "\n",
    "path = Path('us-patent-phrase-to-phrase-matching')\n",
    "!ls {path}"
   ]
  },
  {
   "cell_type": "markdown",
   "id": "3dc7a072-c3df-470c-a7cd-5c0b7dd168f0",
   "metadata": {},
   "source": [
    "## Viewing data"
   ]
  },
  {
   "cell_type": "code",
   "execution_count": null,
   "id": "6223b80c-f7c0-46bd-98ec-868c40957437",
   "metadata": {},
   "outputs": [],
   "source": [
    "import pandas as pd\n",
    "df = pd.read_csv(path/'train.csv')\n",
    "df.head()"
   ]
  },
  {
   "cell_type": "code",
   "execution_count": null,
   "id": "ac232236-a07c-46f3-8bb0-e5a7ea93daf2",
   "metadata": {},
   "outputs": [],
   "source": [
    "df.describe(include='object')"
   ]
  },
  {
   "cell_type": "code",
   "execution_count": null,
   "id": "94c62f82-c3d3-46fe-b3c3-8bdb37888e74",
   "metadata": {},
   "outputs": [],
   "source": [
    "df.target.value_counts()"
   ]
  },
  {
   "cell_type": "code",
   "execution_count": null,
   "id": "c65b3f67-aa6a-4d0b-aeb3-4063522f74e8",
   "metadata": {},
   "outputs": [],
   "source": [
    "df['section'] = df.context.str[0]\n",
    "df.section.value_counts()"
   ]
  },
  {
   "cell_type": "code",
   "execution_count": null,
   "id": "14124be9-20a4-4b32-a198-1a9cfd17fcdf",
   "metadata": {},
   "outputs": [],
   "source": [
    "df.score.hist();"
   ]
  },
  {
   "cell_type": "code",
   "execution_count": null,
   "id": "93d6f3ee-5b18-4c28-95e6-0fdc5d73f2de",
   "metadata": {},
   "outputs": [],
   "source": [
    "df[df.score==1]"
   ]
  },
  {
   "cell_type": "code",
   "execution_count": null,
   "id": "dd4117e0-798b-42f1-a91a-11f510bf18e8",
   "metadata": {},
   "outputs": [],
   "source": [
    "df['input'] = 'TEXT1: ' + df.anchor + '; TEXT2: ' + df.target + '; CONTEXT: ' + df.context\n",
    "df.input.head()"
   ]
  },
  {
   "cell_type": "markdown",
   "id": "d5b8a88a-a392-4e43-995f-ee97b40b0d53",
   "metadata": {},
   "source": [
    "## Tokenisation"
   ]
  },
  {
   "cell_type": "code",
   "execution_count": null,
   "id": "bd0514a0-c98b-4607-a11b-5655efbcd867",
   "metadata": {},
   "outputs": [],
   "source": [
    "from datasets import Dataset,DatasetDict\n",
    "\n",
    "ds = Dataset.from_pandas(df)\n",
    "ds = ds.rename_columns({'score':'labels'})\n",
    "ds"
   ]
  },
  {
   "cell_type": "code",
   "execution_count": null,
   "id": "23e74873-ed94-43a8-9694-0166038ddce4",
   "metadata": {},
   "outputs": [],
   "source": [
    "model_nm = 'google-bert/bert-base-uncased'\n",
    "#model_nm = \"distilbert/distilbert-base-uncased\"\n",
    "from transformers import AutoModelForSequenceClassification,AutoTokenizer\n",
    "tokz = AutoTokenizer.from_pretrained(model_nm)"
   ]
  },
  {
   "cell_type": "code",
   "execution_count": null,
   "id": "bf1de048-5957-4596-86da-2d20d79a83a7",
   "metadata": {
    "collapsed": true,
    "jupyter": {
     "outputs_hidden": true
    }
   },
   "outputs": [],
   "source": [
    "tokz.tokenize(\"G'day folks, I'm Jeremy from fast.ai!\")"
   ]
  },
  {
   "cell_type": "code",
   "execution_count": null,
   "id": "bbca1ca6-67cb-422c-88b1-e91ceff7819a",
   "metadata": {
    "collapsed": true,
    "jupyter": {
     "outputs_hidden": true
    }
   },
   "outputs": [],
   "source": [
    "tokz.tokenize(\"A platypus is an ornithorhynchus anatinus.\")"
   ]
  },
  {
   "cell_type": "code",
   "execution_count": null,
   "id": "e10ae5b8-888e-49dd-ab9a-ac40a5d75d6d",
   "metadata": {},
   "outputs": [],
   "source": [
    "print(len(tokz.vocab))\n",
    "print(tokz.vocab['of'])"
   ]
  },
  {
   "cell_type": "code",
   "execution_count": null,
   "id": "39b4561d-8c65-4fba-b9b3-a96852f9b886",
   "metadata": {},
   "outputs": [],
   "source": [
    "print(ord('▁'))\n",
    "print(ord('_'))"
   ]
  },
  {
   "cell_type": "code",
   "execution_count": null,
   "id": "753ba402",
   "metadata": {},
   "outputs": [],
   "source": [
    "tokz.all_special_tokens"
   ]
  },
  {
   "cell_type": "code",
   "execution_count": null,
   "id": "2543e2c3-208f-4f04-993b-ab369297cefd",
   "metadata": {},
   "outputs": [],
   "source": [
    "sep = tokz.sep_token\n",
    "sep"
   ]
  },
  {
   "cell_type": "code",
   "execution_count": null,
   "id": "55d14fb2",
   "metadata": {},
   "outputs": [],
   "source": [
    "df['input'] = df['anchor'] + sep + df['target'] + sep + df['context']\n",
    "df.input.head()"
   ]
  },
  {
   "cell_type": "code",
   "execution_count": null,
   "id": "a5409231",
   "metadata": {},
   "outputs": [],
   "source": [
    "ds = Dataset.from_pandas(df)\n",
    "ds = ds.rename_columns({'score':'labels'})\n"
   ]
  },
  {
   "cell_type": "code",
   "execution_count": null,
   "id": "fc21c513-1544-4d23-a1f7-cfa018a71011",
   "metadata": {},
   "outputs": [],
   "source": [
    "def tok_func(x): return tokz(x[\"input\"])\n",
    "tok_ds = ds.map(tok_func, batched=True, \n",
    "               remove_columns=('id', 'anchor', 'target', 'context', 'input', 'section'))\n",
    "tok_ds"
   ]
  },
  {
   "cell_type": "code",
   "execution_count": null,
   "id": "7f6bed94-0c2b-42a3-b08a-e30a79dd217b",
   "metadata": {},
   "outputs": [],
   "source": [
    "tok_ds[0]"
   ]
  },
  {
   "cell_type": "markdown",
   "id": "e452757e-1eac-4c60-b6e2-c11d0a4494c4",
   "metadata": {},
   "source": [
    "Test Set "
   ]
  },
  {
   "cell_type": "code",
   "execution_count": null,
   "id": "18d07888-d490-4876-9826-b43e99425ea6",
   "metadata": {},
   "outputs": [],
   "source": [
    "eval_df = pd.read_csv(path/'test.csv')\n",
    "eval_df.describe()"
   ]
  },
  {
   "cell_type": "code",
   "execution_count": null,
   "id": "ee4fb7b8",
   "metadata": {},
   "outputs": [],
   "source": [
    "eval_df['input'] = eval_df.anchor + sep + eval_df.target + sep + eval_df.context\n",
    "eval_ds = Dataset.from_pandas(eval_df).map(tok_func, batched=True, remove_columns=('id', 'anchor', 'target', 'context', 'input'))"
   ]
  },
  {
   "cell_type": "markdown",
   "id": "d3e33182-c29c-4f42-964a-ad250d254556",
   "metadata": {},
   "source": [
    "### Validation and Test data\n",
    "\n",
    "Validation dataset"
   ]
  },
  {
   "cell_type": "code",
   "execution_count": null,
   "id": "96967123-1101-45ca-bb51-b36143e913ee",
   "metadata": {},
   "outputs": [],
   "source": [
    "# method 1 : randomly pick items from the training data\n",
    "dds = tok_ds.train_test_split(0.25, seed=42)\n",
    "dds"
   ]
  },
  {
   "cell_type": "markdown",
   "id": "5add5abd-5651-4c07-be72-ec4e59e1d415",
   "metadata": {},
   "source": [
    "method 2 : randomly select anchor values and pick all rows with this anchor values.\n",
    "\n",
    "This way, anchor values do not overlap btween validation and training dataset"
   ]
  },
  {
   "cell_type": "code",
   "execution_count": null,
   "id": "f3b94f2d",
   "metadata": {},
   "outputs": [],
   "source": [
    "anchors = df.anchor.unique()\n",
    "anchors[:10]"
   ]
  },
  {
   "cell_type": "code",
   "execution_count": null,
   "id": "e862db1c",
   "metadata": {},
   "outputs": [],
   "source": [
    "import numpy as np\n",
    "np.random.shuffle(anchors)\n",
    "anchors[:10]"
   ]
  },
  {
   "cell_type": "code",
   "execution_count": null,
   "id": "12fd019b-77dc-4347-81b7-f040d58bd36a",
   "metadata": {},
   "outputs": [],
   "source": [
    "# proportion of distinct anchor values in the validation dataset\n",
    "val_prop = 0.25\n",
    "\n",
    "# number of distinct anchor values in the validation dataset\n",
    "val_sz = int(len(anchors)*val_prop)\n",
    "\n",
    "# list of anchor values in the validation dataset\n",
    "val_anchors = anchors[:val_sz]\n",
    "\n",
    "# boolean variable indicating whether an observation corresponds to a validation anchor value\n",
    "is_val = df.anchor.isin(val_anchors)\n",
    "\n",
    "# lists of rows in the validation dataset and in the train dataset\n",
    "idxs = np.arange(len(df))\n",
    "val_idxs = idxs[is_val]\n",
    "trn_idxs = idxs[~is_val]\n",
    "\n"
   ]
  },
  {
   "cell_type": "code",
   "execution_count": null,
   "id": "1d8f5403",
   "metadata": {},
   "outputs": [],
   "source": [
    "len(val_idxs),len(trn_idxs)"
   ]
  },
  {
   "cell_type": "code",
   "execution_count": null,
   "id": "c987c3ea-7d3b-48c7-a2b6-b08922bd53ca",
   "metadata": {},
   "outputs": [],
   "source": [
    "dds = DatasetDict({\"train\":tok_ds.select(trn_idxs),\n",
    "             \"test\": tok_ds.select(val_idxs)})\n"
   ]
  },
  {
   "cell_type": "code",
   "execution_count": null,
   "id": "d33dc5b4-e50f-438d-84c0-9c1f85990167",
   "metadata": {},
   "outputs": [],
   "source": [
    "df.iloc[trn_idxs].score.mean().round(2), df.iloc[val_idxs].score.mean().round(2)"
   ]
  },
  {
   "cell_type": "markdown",
   "id": "fb303103-54fc-40f1-95f6-3d6be7e69b08",
   "metadata": {},
   "source": [
    "## Metric\n",
    "\n",
    "Transformers expect metrics to be returned as a dictionary"
   ]
  },
  {
   "cell_type": "code",
   "execution_count": null,
   "id": "de7862c1-62d4-4d86-8271-887511973871",
   "metadata": {},
   "outputs": [],
   "source": [
    "import numpy as np\n",
    "def corr(x,y): return np.corrcoef(x.flatten(),y)[0][1]\n",
    "def corr_d(eval_pred): return {'pearson': corr(*eval_pred)}"
   ]
  },
  {
   "cell_type": "markdown",
   "id": "034d3311-f6fd-461b-ab38-2ed19a648b34",
   "metadata": {},
   "source": [
    "## Training"
   ]
  },
  {
   "cell_type": "code",
   "execution_count": null,
   "id": "d87de4cb-be95-4d26-9b69-4ae443e6857a",
   "metadata": {},
   "outputs": [],
   "source": [
    "from transformers import TrainingArguments,Trainer"
   ]
  },
  {
   "cell_type": "code",
   "execution_count": null,
   "id": "c87420ce",
   "metadata": {},
   "outputs": [],
   "source": [
    "bs = 128\n",
    "epochs = 3\n",
    "lr = 8e-5\n",
    "wd = 0.01\n",
    "\n",
    "args = TrainingArguments('outputs', learning_rate=lr, warmup_ratio=0.1, lr_scheduler_type='cosine', fp16=True,\n",
    "        eval_strategy=\"epoch\", per_device_train_batch_size=bs, per_device_eval_batch_size=bs*2,\n",
    "        num_train_epochs=epochs, weight_decay=wd, report_to='none')\n"
   ]
  },
  {
   "cell_type": "code",
   "execution_count": null,
   "id": "cdb71701",
   "metadata": {},
   "outputs": [],
   "source": [
    "\n",
    "model = AutoModelForSequenceClassification.from_pretrained(model_nm, num_labels=1)\n",
    "    \n",
    "trainer = Trainer(model, args, train_dataset=dds['train'], eval_dataset=dds['test'],\n",
    "                   processing_class=tokz, compute_metrics = corr_d)"
   ]
  },
  {
   "cell_type": "code",
   "execution_count": null,
   "id": "e235629e-8f42-4124-8237-f075036024c3",
   "metadata": {},
   "outputs": [],
   "source": [
    "trainer.train();"
   ]
  },
  {
   "cell_type": "markdown",
   "id": "4d6f4b72",
   "metadata": {},
   "source": [
    "## Improving the model"
   ]
  },
  {
   "cell_type": "code",
   "execution_count": null,
   "id": "00e423d0",
   "metadata": {},
   "outputs": [],
   "source": [
    "def get_dds(df) : \n",
    "    ds = Dataset.from_pandas(df).rename_columns({'score':'labels'})\n",
    "    tok_ds = ds.map(tok_func, batched=True, \n",
    "               remove_columns=('id', 'anchor', 'target', 'context', 'input', 'section'))\n",
    "    dds = DatasetDict({\"train\":tok_ds.select(trn_idxs),\n",
    "             \"test\": tok_ds.select(val_idxs)})\n",
    "    return dds\n",
    "\n",
    "def get_model(): \n",
    "    return AutoModelForSequenceClassification.from_pretrained(model_nm, num_labels=1), AutoTokenizer.from_pretrained(model_nm)\n",
    "\n",
    "def get_trainer(dds, model = None):\n",
    "    if model is None: model, tokz = get_model()\n",
    "\n",
    "    args = TrainingArguments('outputs', learning_rate=lr, warmup_ratio=0.1, lr_scheduler_type='cosine', fp16=True,\n",
    "        eval_strategy=\"epoch\", per_device_train_batch_size=bs, per_device_eval_batch_size=bs*2,\n",
    "        num_train_epochs=epochs, weight_decay=wd, report_to='none')\n",
    "\n",
    "    return Trainer(model, args, train_dataset=dds['train'], eval_dataset=dds['test'],\n",
    "                   tokenizer=tokz, compute_metrics=corr_d)"
   ]
  },
  {
   "cell_type": "code",
   "execution_count": null,
   "id": "5a7013d6",
   "metadata": {},
   "outputs": [],
   "source": [
    "# Our model as it is : \n",
    "\n",
    "#model_nm = 'google-bert/bert-base-uncased'\n",
    "model_nm = \"distilbert/distilbert-base-uncased\"\n",
    "dds = get_dds(df)\n",
    "trainer = get_trainer(dds)\n",
    "\n",
    "trainer.train()"
   ]
  },
  {
   "cell_type": "code",
   "execution_count": null,
   "id": "59d1aa51",
   "metadata": {},
   "outputs": [],
   "source": [
    "# Try new separator\n",
    "sep = \" [s] \"\n",
    "SEP = tokz.sep_token\n",
    "sep1 = \" [s1] \"\n",
    "sep2 = \" [s2] \"\n",
    "df['input'] = \"  [TEXT1 : ]  \" + df.context  + \"  [TEXT2 : ]  \" +  df.anchor  + \"  [target]  \" + df.target\n",
    "database = get_dds(df)\n",
    "get_trainer(database).train()"
   ]
  },
  {
   "cell_type": "code",
   "execution_count": null,
   "id": "70e92ed0",
   "metadata": {},
   "outputs": [],
   "source": [
    "df['input'] = df['input'].str.lower()\n",
    "dds = get_dds(df)\n",
    "get_trainer(dds).train()"
   ]
  },
  {
   "cell_type": "code",
   "execution_count": null,
   "id": "3d7ecf38",
   "metadata": {},
   "outputs": [],
   "source": [
    "model_nm = \"anferico/bert-for-patentse\"\n",
    "get_trainer(dds).train()\n"
   ]
  },
  {
   "cell_type": "code",
   "execution_count": null,
   "id": "0383df26",
   "metadata": {},
   "outputs": [],
   "source": [
    "df['input'] "
   ]
  },
  {
   "cell_type": "markdown",
   "id": "ca26b922-b636-4973-82e7-5af80d78aac9",
   "metadata": {},
   "source": [
    "## Predictions"
   ]
  },
  {
   "cell_type": "code",
   "execution_count": null,
   "id": "f6bb70a8-6546-42d1-9cc0-09762f7c2fd0",
   "metadata": {},
   "outputs": [],
   "source": [
    "preds = trainer.predict(eval_ds).predictions.astype(float)\n",
    "preds = np.clip(preds, 0, 1)\n",
    "print(preds)"
   ]
  },
  {
   "cell_type": "code",
   "execution_count": null,
   "id": "51515e6c-bae8-4acf-a710-d7a58c41e3bf",
   "metadata": {},
   "outputs": [],
   "source": [
    "import datasets\n",
    "\n",
    "submission = datasets.Dataset.from_dict({\n",
    "    'id': eval_ds['id'],\n",
    "    'score': preds\n",
    "})\n",
    "\n",
    "submission.to_csv('submission.csv', index=False)"
   ]
  },
  {
   "cell_type": "code",
   "execution_count": null,
   "id": "dcf246c4-a0fd-4651-b4c9-2606d5b929b7",
   "metadata": {},
   "outputs": [],
   "source": []
  }
 ],
 "metadata": {
  "kernelspec": {
   "display_name": "base",
   "language": "python",
   "name": "python3"
  },
  "language_info": {
   "codemirror_mode": {
    "name": "ipython",
    "version": 3
   },
   "file_extension": ".py",
   "mimetype": "text/x-python",
   "name": "python",
   "nbconvert_exporter": "python",
   "pygments_lexer": "ipython3",
   "version": "3.12.9"
  }
 },
 "nbformat": 4,
 "nbformat_minor": 5
}
